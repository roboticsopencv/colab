{
 "cells": [
  {
   "cell_type": "code",
   "execution_count": 97,
   "id": "bf31e393",
   "metadata": {},
   "outputs": [],
   "source": [
    "# Not more than one datatype, if available it will convert it all to same datatype\n",
    "import numpy as np"
   ]
  },
  {
   "cell_type": "code",
   "execution_count": 98,
   "id": "06ab27b1",
   "metadata": {},
   "outputs": [
    {
     "name": "stdout",
     "output_type": "stream",
     "text": [
      "[1, 2, 3, 'Hi', True]\n",
      "<class 'list'>\n"
     ]
    }
   ],
   "source": [
    "# Lists can have multiple datatypes\n",
    "k = [1,2,3,\"Hi\",True]\n",
    "print(k)\n",
    "print(type(k))"
   ]
  },
  {
   "cell_type": "code",
   "execution_count": 99,
   "id": "97ee6442",
   "metadata": {},
   "outputs": [
    {
     "name": "stdout",
     "output_type": "stream",
     "text": [
      "['1' '2' '3' 'Hi' 'True']\n",
      "<class 'numpy.ndarray'>\n"
     ]
    }
   ],
   "source": [
    "# numpy array\n",
    "k = np.array(k)\n",
    "print(k)\n",
    "print(type(k))"
   ]
  },
  {
   "cell_type": "code",
   "execution_count": 100,
   "id": "7f7caac2",
   "metadata": {},
   "outputs": [
    {
     "name": "stdout",
     "output_type": "stream",
     "text": [
      "[[1 2 3]\n",
      " [4 5 6]]\n",
      "<class 'numpy.ndarray'>\n"
     ]
    }
   ],
   "source": [
    "# 2D Arrays\n",
    "l = [[1,2,3],[4,5,6]]\n",
    "l = np.array(l)\n",
    "print(l)\n",
    "print(type(l))"
   ]
  },
  {
   "cell_type": "code",
   "execution_count": 101,
   "id": "27f98c60",
   "metadata": {},
   "outputs": [
    {
     "name": "stdout",
     "output_type": "stream",
     "text": [
      "(2, 3)\n"
     ]
    }
   ],
   "source": [
    "print(l.shape)"
   ]
  },
  {
   "cell_type": "code",
   "execution_count": 102,
   "id": "503506a6",
   "metadata": {},
   "outputs": [
    {
     "name": "stdout",
     "output_type": "stream",
     "text": [
      "[[0. 0. 0.]\n",
      " [0. 0. 0.]\n",
      " [0. 0. 0.]]\n",
      "[[1. 1.]\n",
      " [1. 1.]]\n"
     ]
    }
   ],
   "source": [
    "# To create empty array of defined size filled with zero\n",
    "zarray = np.zeros(shape=(3,3))\n",
    "print(zarray)\n",
    "# To create empty array of defined size filled with one\n",
    "oarray = np.ones(shape=(2,2))\n",
    "print(oarray)"
   ]
  },
  {
   "cell_type": "code",
   "execution_count": 103,
   "id": "4e812bed",
   "metadata": {},
   "outputs": [
    {
     "name": "stdout",
     "output_type": "stream",
     "text": [
      "[0 1 2 3 4 5 6 7 8 9]\n",
      "[0 2 4 6 8]\n"
     ]
    }
   ],
   "source": [
    "# Equivalent to in range expression in a loop\n",
    "ar1 = np.arange(0,10)\n",
    "print(ar1)\n",
    "ar2 = np.arange(0,10,2) # Here 2 is the increment value\n",
    "print(ar2)"
   ]
  },
  {
   "cell_type": "code",
   "execution_count": 104,
   "id": "dd1fde80",
   "metadata": {},
   "outputs": [
    {
     "name": "stdout",
     "output_type": "stream",
     "text": [
      "[6 5 4 3 2 1]\n"
     ]
    }
   ],
   "source": [
    "# Reverse Sequencing\n",
    "ar3 = np.arange(6,0,-1)\n",
    "print(ar3)"
   ]
  },
  {
   "cell_type": "code",
   "execution_count": 105,
   "id": "3dfc0a75",
   "metadata": {},
   "outputs": [
    {
     "name": "stdout",
     "output_type": "stream",
     "text": [
      "3.5\n"
     ]
    }
   ],
   "source": [
    "# Mean/Average value of Array\n",
    "print(ar3.mean())"
   ]
  },
  {
   "cell_type": "code",
   "execution_count": 106,
   "id": "3bbd541b",
   "metadata": {},
   "outputs": [
    {
     "name": "stdout",
     "output_type": "stream",
     "text": [
      "6\n",
      "8\n"
     ]
    }
   ],
   "source": [
    "# Maximum value of array\n",
    "print(ar3.max())\n",
    "print(ar2.max())"
   ]
  },
  {
   "cell_type": "code",
   "execution_count": 107,
   "id": "eafa5174",
   "metadata": {},
   "outputs": [
    {
     "name": "stdout",
     "output_type": "stream",
     "text": [
      "0\n",
      "4\n"
     ]
    }
   ],
   "source": [
    "# Index of Maximum value of array\n",
    "print(ar3.argmax())\n",
    "print(ar2.argmax())"
   ]
  },
  {
   "cell_type": "code",
   "execution_count": 108,
   "id": "d5b7a555",
   "metadata": {},
   "outputs": [
    {
     "name": "stdout",
     "output_type": "stream",
     "text": [
      "1\n",
      "0\n"
     ]
    }
   ],
   "source": [
    "# Minimum value of array\n",
    "print(ar3.min())\n",
    "print(ar2.min())"
   ]
  },
  {
   "cell_type": "code",
   "execution_count": 109,
   "id": "225ac6d0",
   "metadata": {},
   "outputs": [
    {
     "name": "stdout",
     "output_type": "stream",
     "text": [
      "5\n",
      "0\n"
     ]
    }
   ],
   "source": [
    "# Index of Minimum value of array\n",
    "print(ar3.argmin())\n",
    "print(ar2.argmin())"
   ]
  },
  {
   "cell_type": "code",
   "execution_count": 110,
   "id": "967a6996",
   "metadata": {},
   "outputs": [
    {
     "name": "stdout",
     "output_type": "stream",
     "text": [
      "[6 5 4 3 2 1]\n",
      "(6,)\n",
      "[[6]\n",
      " [5]\n",
      " [4]\n",
      " [3]\n",
      " [2]\n",
      " [1]]\n",
      "(6, 1)\n"
     ]
    }
   ],
   "source": [
    "# Reshaping of arrays\n",
    "print(ar3)\n",
    "print(ar3.shape)\n",
    "ar4 = ar3.reshape(6,1)\n",
    "print(ar4)\n",
    "print(ar4.shape)"
   ]
  },
  {
   "cell_type": "code",
   "execution_count": 111,
   "id": "aa80d55d",
   "metadata": {},
   "outputs": [
    {
     "name": "stdout",
     "output_type": "stream",
     "text": [
      "(6,)\n",
      "(6, 1)\n"
     ]
    }
   ],
   "source": [
    "print(ar3.shape)\n",
    "print(ar4.shape)"
   ]
  }
 ],
 "metadata": {
  "kernelspec": {
   "display_name": "Python 3 (ipykernel)",
   "language": "python",
   "name": "python3"
  },
  "language_info": {
   "codemirror_mode": {
    "name": "ipython",
    "version": 3
   },
   "file_extension": ".py",
   "mimetype": "text/x-python",
   "name": "python",
   "nbconvert_exporter": "python",
   "pygments_lexer": "ipython3",
   "version": "3.9.7"
  }
 },
 "nbformat": 4,
 "nbformat_minor": 5
}
